{
 "cells": [
  {
   "cell_type": "markdown",
   "metadata": {},
   "source": [
    "## 01 데이터에서 인사이트 발견하기"
   ]
  },
  {
   "cell_type": "markdown",
   "metadata": {},
   "source": [
    "### 1.1 탐색적 데이터 분석의 과정"
   ]
  },
  {
   "cell_type": "markdown",
   "metadata": {},
   "source": [
    "#### 데이터와의 첫 만남"
   ]
  },
  {
   "cell_type": "markdown",
   "metadata": {},
   "source": [
    "raw data : 아직 분석에 활용된 적이 없는 혹은 정제되지 않은 데이터\n",
    "\n",
    "탐색적 데이터 분석은 데이터를 열어보는 상황에서부터 시작되며 다음과 같은 과정 수행\n",
    "\n",
    "    1. 데이터의 출처와 주제에 대해 이해합니다.\n",
    "    2. 데이터의 크기를 알아봅니다.\n",
    "    3. 데이터의 구성 요소(피처)를 살펴봅니다."
   ]
  },
  {
   "cell_type": "markdown",
   "metadata": {},
   "source": [
    "#### 데이터의 속성 탐색하기"
   ]
  },
  {
   "cell_type": "markdown",
   "metadata": {},
   "source": [
    "- 피처의 속성 탐색\n",
    "\n",
    "    가장 중요한 것은 '데이터에 질문을 던지는 것'. 피치의 속성 탐색은 '우리 반의 평균 키는 몇이나 될까?'와 같은 질문에서부터 출발하기 때문\n",
    "\n",
    "\n",
    "\n",
    "- 피처 간의 상관 관계 탐색\n",
    "\n",
    "    학급의 신체검사 데이터를 살펴봄 -> '우리 학급은 비만이 아닐까?' -> '몸무게' 피처 살펴봄 -> 가정 확인\n",
    "    \n",
    "    but, 몸무게는 키와도 관계가 있음 -> 이런 상황에서 필요한 것이 피처 간의 상관 관계 탐색\n",
    "    \n",
    "    피처 간의 공분산, 혹은 상관 계수와 같은 개념 포함"
   ]
  },
  {
   "cell_type": "markdown",
   "metadata": {},
   "source": [
    "#### 탐색한 데이터의 시각화"
   ]
  },
  {
   "cell_type": "markdown",
   "metadata": {},
   "source": [
    "데이터 시각화는 수치적 자료만 가지고는 파악하기 힘든 패턴이나 인사이트를 발현하는 데 유용"
   ]
  },
  {
   "cell_type": "markdown",
   "metadata": {},
   "source": [
    "### 1.2 멕시코풍 프랜차이즈 chipotle의 주문 데이터 분석하기"
   ]
  },
  {
   "cell_type": "markdown",
   "metadata": {},
   "source": [
    "#### Step1. 탐색 : 데이터의 기초 정보 살펴보기"
   ]
  },
  {
   "cell_type": "markdown",
   "metadata": {},
   "source": [
    "##### chipotle 데이터셋의 기초 정보 출력하기"
   ]
  },
  {
   "cell_type": "code",
   "execution_count": 5,
   "metadata": {},
   "outputs": [
    {
     "name": "stdout",
     "output_type": "stream",
     "text": [
      "(4622, 5)\n",
      "-----------------------------\n",
      "<class 'pandas.core.frame.DataFrame'>\n",
      "RangeIndex: 4622 entries, 0 to 4621\n",
      "Data columns (total 5 columns):\n",
      " #   Column              Non-Null Count  Dtype \n",
      "---  ------              --------------  ----- \n",
      " 0   order_id            4622 non-null   int64 \n",
      " 1   quantity            4622 non-null   int64 \n",
      " 2   item_name           4622 non-null   object\n",
      " 3   choice_description  3376 non-null   object\n",
      " 4   item_price          4622 non-null   object\n",
      "dtypes: int64(2), object(3)\n",
      "memory usage: 180.7+ KB\n",
      "None\n"
     ]
    }
   ],
   "source": [
    "import pandas as pd\n",
    "\n",
    "file_path = 'python-data-analysis-master/data/chipotle.tsv'\n",
    "# read_csv() 함수로 데이터를 데이터 프레임 형태로 불러옵니다.\n",
    "chipo = pd.read_csv(file_path, sep = '\\t')\n",
    "\n",
    "print(chipo.shape) # shape : 데이터의 행과 열의 크기를 반환\n",
    "print(\"-----------------------------\")\n",
    "print(chipo.info()) # info() : 행과 열의 구성 정보\n",
    "\n",
    "\n",
    "## '../data/...' 에서 맨 앞의 ..은 한 폴더 위 라는 의미"
   ]
  },
  {
   "cell_type": "markdown",
   "metadata": {},
   "source": [
    "##### chipotle 데이터셋의 행과 열, 데이터 확인하기"
   ]
  },
  {
   "cell_type": "code",
   "execution_count": 12,
   "metadata": {},
   "outputs": [
    {
     "data": {
      "text/html": [
       "<div>\n",
       "<style scoped>\n",
       "    .dataframe tbody tr th:only-of-type {\n",
       "        vertical-align: middle;\n",
       "    }\n",
       "\n",
       "    .dataframe tbody tr th {\n",
       "        vertical-align: top;\n",
       "    }\n",
       "\n",
       "    .dataframe thead th {\n",
       "        text-align: right;\n",
       "    }\n",
       "</style>\n",
       "<table border=\"1\" class=\"dataframe\">\n",
       "  <thead>\n",
       "    <tr style=\"text-align: right;\">\n",
       "      <th></th>\n",
       "      <th>order_id</th>\n",
       "      <th>quantity</th>\n",
       "      <th>item_name</th>\n",
       "      <th>choice_description</th>\n",
       "      <th>item_price</th>\n",
       "    </tr>\n",
       "  </thead>\n",
       "  <tbody>\n",
       "    <tr>\n",
       "      <th>0</th>\n",
       "      <td>1</td>\n",
       "      <td>1</td>\n",
       "      <td>Chips and Fresh Tomato Salsa</td>\n",
       "      <td>NaN</td>\n",
       "      <td>$2.39</td>\n",
       "    </tr>\n",
       "    <tr>\n",
       "      <th>1</th>\n",
       "      <td>1</td>\n",
       "      <td>1</td>\n",
       "      <td>Izze</td>\n",
       "      <td>[Clementine]</td>\n",
       "      <td>$3.39</td>\n",
       "    </tr>\n",
       "    <tr>\n",
       "      <th>2</th>\n",
       "      <td>1</td>\n",
       "      <td>1</td>\n",
       "      <td>Nantucket Nectar</td>\n",
       "      <td>[Apple]</td>\n",
       "      <td>$3.39</td>\n",
       "    </tr>\n",
       "    <tr>\n",
       "      <th>3</th>\n",
       "      <td>1</td>\n",
       "      <td>1</td>\n",
       "      <td>Chips and Tomatillo-Green Chili Salsa</td>\n",
       "      <td>NaN</td>\n",
       "      <td>$2.39</td>\n",
       "    </tr>\n",
       "    <tr>\n",
       "      <th>4</th>\n",
       "      <td>2</td>\n",
       "      <td>2</td>\n",
       "      <td>Chicken Bowl</td>\n",
       "      <td>[Tomatillo-Red Chili Salsa (Hot), [Black Beans...</td>\n",
       "      <td>$16.98</td>\n",
       "    </tr>\n",
       "    <tr>\n",
       "      <th>5</th>\n",
       "      <td>3</td>\n",
       "      <td>1</td>\n",
       "      <td>Chicken Bowl</td>\n",
       "      <td>[Fresh Tomato Salsa (Mild), [Rice, Cheese, Sou...</td>\n",
       "      <td>$10.98</td>\n",
       "    </tr>\n",
       "    <tr>\n",
       "      <th>6</th>\n",
       "      <td>3</td>\n",
       "      <td>1</td>\n",
       "      <td>Side of Chips</td>\n",
       "      <td>NaN</td>\n",
       "      <td>$1.69</td>\n",
       "    </tr>\n",
       "    <tr>\n",
       "      <th>7</th>\n",
       "      <td>4</td>\n",
       "      <td>1</td>\n",
       "      <td>Steak Burrito</td>\n",
       "      <td>[Tomatillo Red Chili Salsa, [Fajita Vegetables...</td>\n",
       "      <td>$11.75</td>\n",
       "    </tr>\n",
       "    <tr>\n",
       "      <th>8</th>\n",
       "      <td>4</td>\n",
       "      <td>1</td>\n",
       "      <td>Steak Soft Tacos</td>\n",
       "      <td>[Tomatillo Green Chili Salsa, [Pinto Beans, Ch...</td>\n",
       "      <td>$9.25</td>\n",
       "    </tr>\n",
       "    <tr>\n",
       "      <th>9</th>\n",
       "      <td>5</td>\n",
       "      <td>1</td>\n",
       "      <td>Steak Burrito</td>\n",
       "      <td>[Fresh Tomato Salsa, [Rice, Black Beans, Pinto...</td>\n",
       "      <td>$9.25</td>\n",
       "    </tr>\n",
       "  </tbody>\n",
       "</table>\n",
       "</div>"
      ],
      "text/plain": [
       "   order_id  quantity                              item_name  \\\n",
       "0         1         1           Chips and Fresh Tomato Salsa   \n",
       "1         1         1                                   Izze   \n",
       "2         1         1                       Nantucket Nectar   \n",
       "3         1         1  Chips and Tomatillo-Green Chili Salsa   \n",
       "4         2         2                           Chicken Bowl   \n",
       "5         3         1                           Chicken Bowl   \n",
       "6         3         1                          Side of Chips   \n",
       "7         4         1                          Steak Burrito   \n",
       "8         4         1                       Steak Soft Tacos   \n",
       "9         5         1                          Steak Burrito   \n",
       "\n",
       "                                  choice_description item_price  \n",
       "0                                                NaN     $2.39   \n",
       "1                                       [Clementine]     $3.39   \n",
       "2                                            [Apple]     $3.39   \n",
       "3                                                NaN     $2.39   \n",
       "4  [Tomatillo-Red Chili Salsa (Hot), [Black Beans...    $16.98   \n",
       "5  [Fresh Tomato Salsa (Mild), [Rice, Cheese, Sou...    $10.98   \n",
       "6                                                NaN     $1.69   \n",
       "7  [Tomatillo Red Chili Salsa, [Fajita Vegetables...    $11.75   \n",
       "8  [Tomatillo Green Chili Salsa, [Pinto Beans, Ch...     $9.25   \n",
       "9  [Fresh Tomato Salsa, [Rice, Black Beans, Pinto...     $9.25   "
      ]
     },
     "execution_count": 12,
     "metadata": {},
     "output_type": "execute_result"
    }
   ],
   "source": [
    "# chipo라는 데이터 프레임에서 순서대로 10개의 데이터를 보여줍니다.\n",
    "chipo.head(10)"
   ]
  },
  {
   "cell_type": "code",
   "execution_count": 11,
   "metadata": {},
   "outputs": [
    {
     "name": "stdout",
     "output_type": "stream",
     "text": [
      "Index(['order_id', 'quantity', 'item_name', 'choice_description',\n",
      "       'item_price'],\n",
      "      dtype='object')\n",
      "-------------------------------------\n",
      "RangeIndex(start=0, stop=4622, step=1)\n"
     ]
    }
   ],
   "source": [
    "print(chipo.columns)\n",
    "print(\"-------------------------------------\")\n",
    "print(chipo.index)"
   ]
  },
  {
   "cell_type": "markdown",
   "metadata": {},
   "source": [
    "order_id : 주문 번호\n",
    "\n",
    "quantity : 아이템의 주문 수량\n",
    "\n",
    "item_name : 주문한 아이템의 이름\n",
    "\n",
    "choice_description : 주문한 아이템의 상세 선택 옵션\n",
    "\n",
    "item_price : 주문 아이템의 가격 정보"
   ]
  },
  {
   "cell_type": "markdown",
   "metadata": {},
   "source": [
    "##### quantity와 item_price의 수치적 특징"
   ]
  },
  {
   "cell_type": "markdown",
   "metadata": {},
   "source": [
    "quantity와 item_price는 연속성 피처(키와 몸무게처럼 어떠한 값도 가질 수 있는 연속적인 숫자 형태)\n",
    "\n",
    "describe() : 피처의 기초 통계량\n",
    "\n",
    "but, 현재 유일한 수치형 피처는 quantity 뿐이기 때문에 오직 quantity에 대한 정보만을 출력할 수 있음"
   ]
  },
  {
   "cell_type": "markdown",
   "metadata": {},
   "source": [
    "##### describe() 함수로 기초 통계량 출력하기"
   ]
  },
  {
   "cell_type": "code",
   "execution_count": 14,
   "metadata": {},
   "outputs": [
    {
     "name": "stdout",
     "output_type": "stream",
     "text": [
      "          quantity\n",
      "count  4622.000000\n",
      "mean      1.075725\n",
      "std       0.410186\n",
      "min       1.000000\n",
      "25%       1.000000\n",
      "50%       1.000000\n",
      "75%       1.000000\n",
      "max      15.000000\n"
     ]
    }
   ],
   "source": [
    "# order_id는 숫자의 의미를 가지지 않기 때문에 str으로 변환합니다.\n",
    "chipo['order_id'] = chipo['order_id'].astype(str)\n",
    "print(chipo.describe()) # chipo 데이터 프레임에서 수치형 피처들의 기초 통계량을 확인합니다."
   ]
  },
  {
   "cell_type": "markdown",
   "metadata": {},
   "source": [
    "평균 주문 수량(mean)은 약 1.07\n",
    "\n",
    "-> 대부분이 한 아이템에 대해서 1개 정도만 주문했다는 것이고, '한 사람이 같은 메뉴를 여러 개 구매하는 경우는 많지 않다.'는 인사이트를 얻을 수 있음"
   ]
  },
  {
   "cell_type": "markdown",
   "metadata": {},
   "source": [
    "그렇다면 item_price의 수치적 특징은 어떻게 알아볼 수 있을까?\n",
    "\n",
    "현재 item_price 피처는 object 타입이기 때문에 describe() 함수로 기초 통계량을 확인할 수 없음\n",
    "\n",
    "따라서 추가적인 데이터 전처리 작업이 필요"
   ]
  },
  {
   "cell_type": "markdown",
   "metadata": {},
   "source": [
    "##### order_id와 item_name의 개수"
   ]
  },
  {
   "cell_type": "markdown",
   "metadata": {},
   "source": [
    "order_id와 item_name의 개수 탐색\n",
    "\n",
    "두 피처는 범주형 피처이기 때문에 unique() 함수 사용"
   ]
  },
  {
   "cell_type": "markdown",
   "metadata": {},
   "source": [
    "##### unique() 함수로 범주형 피처의 개수 출력하기"
   ]
  },
  {
   "cell_type": "code",
   "execution_count": 17,
   "metadata": {},
   "outputs": [
    {
     "name": "stdout",
     "output_type": "stream",
     "text": [
      "1834\n",
      "50\n"
     ]
    }
   ],
   "source": [
    "print(len(chipo['order_id'].unique())) # order_id의 개수를 출력합니다.\n",
    "print(len(chipo['item_name'].unique())) # item_name의 개수를 출력합니다."
   ]
  },
  {
   "cell_type": "markdown",
   "metadata": {},
   "source": [
    "#### Step2. 인사이트의 발견 : 탐색과 시각화하기"
   ]
  },
  {
   "cell_type": "markdown",
   "metadata": {},
   "source": [
    "##### 가장 많이 주문한 아이템 Top 10 출력하기"
   ]
  },
  {
   "cell_type": "code",
   "execution_count": 18,
   "metadata": {
    "scrolled": true
   },
   "outputs": [
    {
     "name": "stdout",
     "output_type": "stream",
     "text": [
      "Top 1 : Chicken Bowl 726\n",
      "Top 2 : Chicken Burrito 553\n",
      "Top 3 : Chips and Guacamole 479\n",
      "Top 4 : Steak Burrito 368\n",
      "Top 5 : Canned Soft Drink 301\n",
      "Top 6 : Steak Bowl 211\n",
      "Top 7 : Chips 211\n",
      "Top 8 : Bottled Water 162\n",
      "Top 9 : Chicken Soft Tacos 115\n",
      "Top 10 : Chips and Fresh Tomato Salsa 110\n"
     ]
    }
   ],
   "source": [
    "# 가장 많이 주문한 아이템 Top 10을 출력합니다.\n",
    "item_count = chipo['item_name'].value_counts()[:10]\n",
    "for idx, (val, cnt) in enumerate(item_count.iteritems(), 1) :\n",
    "    print(\"Top\", idx, \":\", val, cnt)\n",
    "\n",
    "    \n",
    "## iteritems() : 행 번호와 값을 출력"
   ]
  },
  {
   "cell_type": "markdown",
   "metadata": {},
   "source": [
    "##### 아이템별 주문 개수와 총량 구하기"
   ]
  },
  {
   "cell_type": "code",
   "execution_count": 19,
   "metadata": {},
   "outputs": [
    {
     "data": {
      "text/plain": [
       "item_name\n",
       "6 Pack Soft Drink         54\n",
       "Barbacoa Bowl             66\n",
       "Barbacoa Burrito          91\n",
       "Barbacoa Crispy Tacos     11\n",
       "Barbacoa Salad Bowl       10\n",
       "Barbacoa Soft Tacos       25\n",
       "Bottled Water            162\n",
       "Bowl                       2\n",
       "Burrito                    6\n",
       "Canned Soda              104\n",
       "Name: order_id, dtype: int64"
      ]
     },
     "execution_count": 19,
     "metadata": {},
     "output_type": "execute_result"
    }
   ],
   "source": [
    "# 아이템별 주문 개수를 출력합니다.\n",
    "order_count = chipo.groupby('item_name')['order_id'].count()\n",
    "order_count[:10] # 아이템별 주문 개수를 출력합니다."
   ]
  },
  {
   "cell_type": "markdown",
   "metadata": {},
   "source": [
    "groupby() : 데이터 프레임에서 특정 피처를 기준으로 그룹을 생성하며 이를 통해 그룹별 연산을 적용\n",
    "\n",
    "예를 들어 '학급'이라는 그룹을 만들었을 때, '학급별 평균 키', '학급별 평균 몸무게' 등을 구하는 것"
   ]
  },
  {
   "cell_type": "code",
   "execution_count": 20,
   "metadata": {},
   "outputs": [
    {
     "data": {
      "text/plain": [
       "item_name\n",
       "6 Pack Soft Drink         55\n",
       "Barbacoa Bowl             66\n",
       "Barbacoa Burrito          91\n",
       "Barbacoa Crispy Tacos     12\n",
       "Barbacoa Salad Bowl       10\n",
       "Barbacoa Soft Tacos       25\n",
       "Bottled Water            211\n",
       "Bowl                       4\n",
       "Burrito                    6\n",
       "Canned Soda              126\n",
       "Name: quantity, dtype: int64"
      ]
     },
     "execution_count": 20,
     "metadata": {},
     "output_type": "execute_result"
    }
   ],
   "source": [
    "# 아이템별 주문 총량을 출력합니다.\n",
    "item_quantity = chipo.groupby('item_name')['quantity'].sum()\n",
    "item_quantity[:10] # 아이템별 주문 총량을 출력합니다."
   ]
  },
  {
   "cell_type": "markdown",
   "metadata": {},
   "source": [
    "#### 시각화"
   ]
  },
  {
   "cell_type": "markdown",
   "metadata": {},
   "source": [
    "##### 시각화로 분석 결과 살펴보기"
   ]
  },
  {
   "cell_type": "code",
   "execution_count": 21,
   "metadata": {},
   "outputs": [
    {
     "data": {
      "image/png": "[encoded data removed]",
      "text/plain": [
       "<Figure size 432x288 with 1 Axes>"
      ]
     },
     "metadata": {
      "needs_background": "light"
     },
     "output_type": "display_data"
    }
   ],
   "source": [
    "%matplotlib inline\n",
    "import numpy as np\n",
    "import matplotlib.pyplot as plt\n",
    "\n",
    "item_name_list = item_quantity.index.tolist()\n",
    "x_pos = np.arange(len(item_name_list))\n",
    "order_cnt = item_quantity.values.tolist()\n",
    "\n",
    "plt.bar(x_pos, order_cnt, align = 'center')\n",
    "plt.ylabel('ordered_item_count')\n",
    "plt.title('Distribution of all ordered item')\n",
    "\n",
    "plt.show()"
   ]
  },
  {
   "cell_type": "code",
   "execution_count": null,
   "metadata": {},
   "outputs": [],
   "source": []
  }
 ],
 "metadata": {
  "kernelspec": {
   "display_name": "Python 3",
   "language": "python",
   "name": "python3"
  },
  "language_info": {
   "codemirror_mode": {
    "name": "ipython",
    "version": 3
   },
   "file_extension": ".py",
   "mimetype": "text/x-python",
   "name": "python",
   "nbconvert_exporter": "python",
   "pygments_lexer": "ipython3",
   "version": "3.7.6"
  }
 },
 "nbformat": 4,
 "nbformat_minor": 4
}
